{
 "cells": [
  {
   "cell_type": "markdown",
   "metadata": {},
   "source": [
    "# TTT4185 Machine learning for Speech technology\n",
    "\n",
    "## Computer assigment 3a: Classification using Deep Neural Networks\n",
    "\n",
    "This assignment assumes that the student has reviewed the material on deep neural networks.\n",
    "\n",
    "In this assignment we will use the high level `Keras` framework together with `Tensorflow` to perform some deep learning experiments.\n",
    "\n",
    "We will be using a small database of phonemes, where each phoneme is represented by the four first formant positions (\"F1\"-\"F4\") and their corresponding bandwidths (\"B1\"-\"B4\"). All numbers are in kHz. In addition, the speaker ID and the gender of the speaker are given for each phoneme.\n",
    "\n",
    "The first few cells of this notebook contain example code to load and extract data, setup a simple network and train a deep neural network for classification. \n",
    "\n",
    "Note that we do not have a test dataset, but only training and validation sets. We do some experiments on the training set and observe the effect on the validation set."
   ]
  },
  {
   "cell_type": "code",
   "execution_count": null,
   "metadata": {},
   "outputs": [],
   "source": [
    "import numpy as np\n",
    "import pandas as pd\n",
    "import matplotlib.pyplot as plt\n",
    "%matplotlib inline\n",
    "\n",
    "import tensorflow as tf\n",
    "from tensorflow import keras"
   ]
  },
  {
   "cell_type": "code",
   "execution_count": null,
   "metadata": {},
   "outputs": [],
   "source": [
    "# Load data from CSV files \n",
    "rawtrain = pd.read_csv(\"Train.csv\")\n",
    "rawvalid = pd.read_csv(\"Validation.csv\")\n",
    "\n",
    "# Take a peek at the raw data\n",
    "rawtrain.head(10)"
   ]
  },
  {
   "cell_type": "code",
   "execution_count": null,
   "metadata": {},
   "outputs": [],
   "source": [
    "# We will be classifying three different vowels. Extract the training and validation data\n",
    "phonemes = [\"ae\", \"ey\", \"ux\"]\n",
    "train = rawtrain[rawtrain[\"Phoneme\"].isin(phonemes)]\n",
    "valid = rawvalid[rawvalid[\"Phoneme\"].isin(phonemes)]\n",
    "trainlabels = [phonemes.index(ph) for ph in train[\"Phoneme\"]]\n",
    "validlabels = [phonemes.index(ph) for ph in valid[\"Phoneme\"]]"
   ]
  },
  {
   "cell_type": "code",
   "execution_count": null,
   "metadata": {},
   "outputs": [],
   "source": [
    "# Features to use\n",
    "features = [\"F1\",\"F2\"]\n",
    "\n",
    "# Extract features\n",
    "x_train_raw = train[features]\n",
    "x_valid_raw = valid[features]\n",
    "\n",
    "# Normalize to zero mean\n",
    "x_mean = np.mean(x_train_raw)\n",
    "x_std = np.std(x_train_raw)\n",
    "x_train = x_train_raw - x_mean\n",
    "x_valid = x_valid_raw - x_mean\n",
    "\n",
    "# Fix labels. The \"to_categorical\" call maps integer labels {n}\n",
    "# to a vector of length N (number of labels) with a one in position n\n",
    "y_train = keras.utils.to_categorical(trainlabels, len(phonemes))\n",
    "y_valid = keras.utils.to_categorical(validlabels, len(phonemes))"
   ]
  },
  {
   "cell_type": "code",
   "execution_count": null,
   "metadata": {},
   "outputs": [],
   "source": [
    "# Create a model with a single hidden layer\n",
    "model = keras.Sequential([\n",
    "    keras.layers.Dense(256, activation=tf.nn.relu, input_dim=x_train.shape[1]),\n",
    "    keras.layers.Dense(len(phonemes), activation=tf.nn.softmax)\n",
    "])\n",
    "model.summary()\n",
    "\n",
    "# Train the model\n",
    "model.compile(loss='categorical_crossentropy',\n",
    "              optimizer='adam',\n",
    "              metrics=['accuracy'])\n",
    "\n",
    "# Train the model\n",
    "history = model.fit(x_train, y_train, validation_data=(x_valid, y_valid),\n",
    "                    epochs=1000, batch_size=32, verbose=True)"
   ]
  },
  {
   "cell_type": "code",
   "execution_count": null,
   "metadata": {},
   "outputs": [],
   "source": [
    "# Visualize the training results\n",
    "plt.figure(figsize=(10,8))\n",
    "plt.plot(history.history['loss'],label='loss')\n",
    "plt.plot(history.history['accuracy'],label='acc')\n",
    "plt.plot(history.history['val_loss'],label='val_loss')\n",
    "plt.plot(history.history['val_accuracy'],label='val_acc')\n",
    "plt.grid()\n",
    "plt.legend()\n",
    "plt.show()"
   ]
  },
  {
   "cell_type": "code",
   "execution_count": null,
   "metadata": {},
   "outputs": [],
   "source": [
    "# Validation model\n",
    "score = model.evaluate(x_valid, y_valid, verbose=0)\n",
    "print('Validation loss:', score[0])\n",
    "print('Validation accuracy:', score[1])"
   ]
  },
  {
   "cell_type": "markdown",
   "metadata": {},
   "source": [
    "## Problem 1\n",
    "Increase the number of features to include \"F3\" and \"F4\" and rerun the experiments. Try also adding the bandwidths (\"B1\"-\"B4\")."
   ]
  },
  {
   "cell_type": "code",
   "execution_count": null,
   "metadata": {},
   "outputs": [],
   "source": []
  },
  {
   "cell_type": "markdown",
   "metadata": {},
   "source": [
    "## Problem 2\n",
    "Change the number of nodes in the hidden layer and see how the results change. Try using dropout, and observe the results."
   ]
  },
  {
   "cell_type": "code",
   "execution_count": null,
   "metadata": {},
   "outputs": [],
   "source": []
  },
  {
   "cell_type": "markdown",
   "metadata": {},
   "source": [
    "## Problem 3\n",
    "Add multiple layers to the network and observe the results."
   ]
  },
  {
   "cell_type": "code",
   "execution_count": null,
   "metadata": {},
   "outputs": [],
   "source": []
  },
  {
   "cell_type": "markdown",
   "metadata": {},
   "source": [
    "## Problem 4\n",
    "Use the data to predict the gender of the speaker. Try including the format bandwidths as features as well (\"B1\"-\"B4\")."
   ]
  },
  {
   "cell_type": "code",
   "execution_count": null,
   "metadata": {},
   "outputs": [],
   "source": []
  }
 ],
 "metadata": {
  "kernelspec": {
   "display_name": "Python 3 (ipykernel)",
   "language": "python",
   "name": "python3"
  },
  "language_info": {
   "codemirror_mode": {
    "name": "ipython",
    "version": 3
   },
   "file_extension": ".py",
   "mimetype": "text/x-python",
   "name": "python",
   "nbconvert_exporter": "python",
   "pygments_lexer": "ipython3",
   "version": "3.8.6"
  }
 },
 "nbformat": 4,
 "nbformat_minor": 4
}
