{
 "cells": [
  {
   "cell_type": "markdown",
   "id": "5fae3784",
   "metadata": {},
   "source": [
    "# TTT4185 Machine learning for Speech technology\n",
    "\n",
    "## Computer assignment 2: Classification using the Bayes Decision Rule and Support Vector Machines\n",
    "\n",
    "This assignment assumes that the student has knowledge about the Bayes Decision Rule, maximum likelihood estimation and support vector machines.\n",
    "\n",
    "In this assignment we will use `scikit-learn` (http://scikit-learn.org/stable/), which is a powerful and very popular Python toolkit for data analysis and machine learning, and `pandas` (https://pandas.pydata.org), which implements the all-powerful `DataFrame`.\n",
    "\n",
    "We will also be using a small database of phonemes, where each phoneme is represented by the four first formant positions (\"F1\"-\"F4\") and their corresponding bandwidths (\"B1\"-\"B4\"). All numbers are in kHz. In addition, the speaker ID and the gender of the speaker are given for each phoneme."
   ]
  },
  {
   "cell_type": "markdown",
   "id": "e7cf6c5f",
   "metadata": {},
   "source": [
    "### Problem 1\n",
    "\n",
    "In this problem we will use the Bayes decision rule to classify vowels based on their formants. The formants have been extracted from the open database `VTR Formants database` (http://www.seas.ucla.edu/spapl/VTRFormants.html) created by Microsoft and UCLA.\n",
    "\n",
    "(a) Download the files `Train.csv` and `Test.csv` from Blackboard, and load them into a `pandas` dataframe using the command `pd.read_csv`. Using the training data, create a single scatter plot of \"F1\" vs \"F2\" for the three vowels\n",
    "- \"ae\" as in \"bat\"\n",
    "- \"ey\" as in \"bait\"\n",
    "- \"ux\" as in \"boot\"\n",
    "\n",
    "Just eyeing the plots, discuss which classes will be hardest to classify correctly."
   ]
  },
  {
   "cell_type": "code",
   "execution_count": null,
   "id": "d8768f6e",
   "metadata": {},
   "outputs": [],
   "source": [
    "import numpy as np\n",
    "import pandas as pd\n",
    "import matplotlib.pyplot as plt\n",
    "\n",
    "%matplotlib notebook\n",
    "\n",
    "# Load data\n",
    "train = pd.read_csv(\"Train.csv\")\n",
    "test = pd.read_csv(\"Test.csv\")\n",
    "\n",
    "# Extract vowels\n",
    "aes = train[train[\"Phoneme\"] == 'ae']\n",
    "eys = train[train[\"Phoneme\"] == 'ey']\n",
    "uxs = train[train[\"Phoneme\"] == 'ux']\n",
    "\n",
    "# Plotting here"
   ]
  },
  {
   "cell_type": "markdown",
   "id": "0ccdee0f",
   "metadata": {},
   "source": [
    "(b) Use the Bayes Decision Rule to create a classifier for the phonemes 'ae', 'ey' and 'ux' under the following constraints:\n",
    "- The feature vector $x$ contains the first two formants, \"F1\" and \"F2\".\n",
    "- The distribution of $x$ given a phoneme $c$, $P(x|c)$, is Gaussian.\n",
    "- Use the maximum likelihood estimator to estimate the model parameters."
   ]
  },
  {
   "cell_type": "code",
   "execution_count": null,
   "id": "4dc61915",
   "metadata": {},
   "outputs": [],
   "source": []
  },
  {
   "cell_type": "markdown",
   "id": "5ec8d4fc",
   "metadata": {},
   "source": [
    "(c) To visualize the classes models and the classifier created in (b), plot the contours for each Gaussian distribution in the model, that is the class conditional likelihoods $P(x|c)$, by using the following function."
   ]
  },
  {
   "cell_type": "code",
   "execution_count": null,
   "id": "81efff50",
   "metadata": {
    "lines_to_next_cell": 0
   },
   "outputs": [],
   "source": [
    "import scipy.stats\n",
    "\n",
    "def plotGaussian(mean, cov, color, ax):\n",
    "    \"\"\" \n",
    "        Creates a contour plot for a bi-variate normal distribution\n",
    "        \n",
    "        mean: numpy array 2x1 with mean vector\n",
    "        cov: numpy array 2x2 with covarince matrix\n",
    "        color: name of color for the plot (see https://matplotlib.org/stable/gallery/color/named_colors.html)\n",
    "        ax: axis handle where the plot is drawn (can for example be returned by plt.gca() or plt.subplots())\n",
    "    \"\"\"\n",
    "    xlim = ax.get_xlim()\n",
    "    ylim = ax.get_ylim()\n",
    "    x, y = np.mgrid[xlim[0]:xlim[1]:(xlim[1]-xlim[0])/500.0, ylim[0]:ylim[1]:(ylim[1]-ylim[0])/500.0]\n",
    "    xy = np.dstack((x, y))\n",
    "    mvn = scipy.stats.multivariate_normal(mean, cov)\n",
    "    lik = mvn.pdf(xy)\n",
    "    ax.contour(x,y,lik,colors=color)"
   ]
  },
  {
   "cell_type": "code",
   "execution_count": null,
   "id": "5ed97ad6",
   "metadata": {
    "lines_to_next_cell": 2
   },
   "outputs": [],
   "source": []
  },
  {
   "cell_type": "markdown",
   "id": "35992af8",
   "metadata": {},
   "source": [
    "*Try:* Plot the decision regions for the Bayesian classifier. Tips: Calculate the posterior for each class, use the `numpy.argmax` function to get the decision regions, and `matplotlib.pyplot.contourf` to plot them."
   ]
  },
  {
   "cell_type": "code",
   "execution_count": null,
   "id": "8c81ed8d",
   "metadata": {},
   "outputs": [],
   "source": []
  },
  {
   "cell_type": "markdown",
   "id": "a17f9df1",
   "metadata": {},
   "source": [
    "(d) Test your classifier on the 'ae', 'ey' and 'ux' phonemes from the test set and present your results in a _confusion matrix_, that is, a table where you see how many times 'ae' was correctly classified, how many times it was wrongly classified as 'ey' and so on."
   ]
  },
  {
   "cell_type": "code",
   "execution_count": null,
   "id": "1f89b789",
   "metadata": {},
   "outputs": [],
   "source": []
  },
  {
   "cell_type": "markdown",
   "id": "f480f74c",
   "metadata": {},
   "source": [
    "(e) Extend your classifier to include the features \"F1\"-\"F4\" and compare the results with those in (d). Finally use all available information \"F1\"-\"F4\" and \"B1-B4\". How does the performance of this classifier compare with the simpler classifiers using fewer features?"
   ]
  },
  {
   "cell_type": "code",
   "execution_count": null,
   "id": "dbd8360d",
   "metadata": {},
   "outputs": [],
   "source": []
  },
  {
   "cell_type": "markdown",
   "id": "4f4a3e07",
   "metadata": {},
   "source": [
    "(f) We want to make the model slightly more powerful by modeling the feature vector conditional on both the vowel and gender of speaker, that is $P(x|g,c)$, where $g$ is the gender of the speaker and $c$ is the phoneme label. Show how these models can be used for phoneme classification using marginalization over the gender.\n",
    "\n",
    "Assume that $P(x|g,c)$ is a multivariate Gaussian and compute the maximum likelihood estimates for the models. Compare the result on the test set with the results in (e)."
   ]
  },
  {
   "cell_type": "code",
   "execution_count": null,
   "id": "64eefb9c",
   "metadata": {},
   "outputs": [],
   "source": []
  },
  {
   "cell_type": "markdown",
   "id": "c6b7e767",
   "metadata": {},
   "source": [
    "(g) When using Gaussian classifiers we often avoid computing the entire covariance matrix, but instead we only use the diagonal of the matrix. Repeat the results in (f) using only diagonal covariance matrices and compare the results."
   ]
  },
  {
   "cell_type": "code",
   "execution_count": null,
   "id": "703bdfe3",
   "metadata": {},
   "outputs": [],
   "source": []
  },
  {
   "cell_type": "markdown",
   "id": "771ad4a6",
   "metadata": {},
   "source": [
    "### Problem 2\n",
    "\n",
    "In this problem we use the support vector machine (SVM) to build classifiers. We use the same dataset as in Problem 1. It is up to you to select which features to use.\n",
    "\n",
    "We use the function `sklearn.svm.SVC` from `scikit-learn` in this problem. First you need to get your data on the format that `SVC` expects, which is a matrix where every row is a feature vector, and a list of integer labels corresponding to each row. We suggest using \"ae\" = 0, \"ey\" = 1 and \"ux\" = 2.\n",
    "\n",
    "An example on how to use the `SVC` is given in http://scikit-learn.org/stable/modules/generated/sklearn.svm.SVC.html#sklearn.svm.SVC. In short, we do the following (for a linear kernel):\n",
    "- Instantiate an SVC object: `cls = SVC(kernel='linear')`\n",
    "- Train the SVM using the feature vector matrix `train_X`, and label vector `train_Y`: `cls.fit(train_X, train_Y)`\n",
    "- Predict labels on the test set `Test_X` using: `cls.predict(Test_X)`\n",
    "\n",
    "You can use or adapt the following functions to visualize the SVM decision regions and support vectors in 2D."
   ]
  },
  {
   "cell_type": "code",
   "execution_count": null,
   "id": "16322a82",
   "metadata": {},
   "outputs": [],
   "source": [
    "import seaborn as sns\n",
    "from sklearn.preprocessing import LabelEncoder\n",
    "\n",
    "import warnings\n",
    "warnings.filterwarnings('ignore')\n",
    "\n",
    "def Plot_SVM_decision_regions(clf,data,labels):\n",
    "    '''\n",
    "    This function is for plotting the decision area of SVM\n",
    "    \n",
    "    Args:\n",
    "    - clf: SVM model\n",
    "    - data: Data with two features\n",
    "    - labels: Corresponding labels of the data\n",
    "    '''\n",
    "    phonemes = np.array([\"ae\",\"ey\",\"ux\"])\n",
    "    x_min, x_max = data[:,0].min() - 0.2, data[:,0].max() + 0.2\n",
    "    y_min, y_max = data[:,1].min() - 0.2, data[:,1].max() + 0.2\n",
    "    xx, yy = np.meshgrid(np.arange(x_min, x_max, 0.002),np.arange(y_min, y_max, 0.002))\n",
    "    label_encoder = LabelEncoder()\n",
    "    integer_encoded = label_encoder.fit_transform(phonemes)\n",
    "    Z = clf.predict(np.c_[xx.ravel(), yy.ravel()])\n",
    "    Z = label_encoder.transform(Z)\n",
    "    Z = Z.reshape(xx.shape)\n",
    "    #Plotting\n",
    "    plt.figure(figsize=(10,6))\n",
    "    sns.scatterplot(data[:,0],data[:,1],hue=labels)\n",
    "    plt.contourf(xx, yy, Z, cmap=plt.cm.ocean, alpha=0.2)\n",
    "    plt.legend()\n",
    "    plt.title('Decision Area of SVM')\n",
    "    plt.show()\n",
    "\n",
    "def Plot_Support_Vectors(clf,data):\n",
    "    '''\n",
    "    This function is for plotting the support vectors of the SVM model\n",
    "    \n",
    "    Args:\n",
    "    - clf: SVM model\n",
    "    - data: Data with two features\n",
    "    '''\n",
    "    x_min, x_max = data[:,0].min() - 0.2, data[:,0].max() + 0.2\n",
    "    y_min, y_max = data[:,1].min() - 0.2, data[:,1].max() + 0.2\n",
    "    xx, yy = np.meshgrid(np.arange(x_min, x_max, 0.002),np.arange(y_min, y_max, 0.002))\n",
    "    Z = clf.predict(np.c_[xx.ravel(), yy.ravel()])\n",
    "    Z = label_encoder.transform(Z)\n",
    "    Z = Z.reshape(xx.shape)\n",
    "    #Plotting\n",
    "    plt.figure(figsize=(10,6))\n",
    "    plt.scatter(clf.support_vectors_[:,0], clf.support_vectors_[:,1], c='k',alpha=0.4,label='support vector')\n",
    "    plt.contourf(xx, yy, Z, cmap=plt.cm.ocean, alpha=0.2)\n",
    "    plt.legend()\n",
    "    plt.title('Support Vectors')\n",
    "    plt.show()"
   ]
  },
  {
   "cell_type": "markdown",
   "id": "bc84e4dd",
   "metadata": {},
   "source": [
    "(a) Create a linear SVM with different penalty terms $C=\\{0.1, 1, 10\\}$ and compare with the results in Problem 1."
   ]
  },
  {
   "cell_type": "code",
   "execution_count": null,
   "id": "03f9dc8c",
   "metadata": {},
   "outputs": [],
   "source": []
  },
  {
   "cell_type": "markdown",
   "id": "00f5ec46",
   "metadata": {
    "lines_to_next_cell": 2
   },
   "source": [
    "(b) Try different kernels ('rbf', 'poly', 'sigmoid') and compare the results. Choose one of the kernels and use different penalty terms $C$. What happens with the performance on the training set when you increase $C$? What happens with the performance on the test set?"
   ]
  }
 ],
 "metadata": {
  "kernelspec": {
   "display_name": "Python 3",
   "language": "python",
   "name": "python3"
  }
 },
 "nbformat": 4,
 "nbformat_minor": 5
}
